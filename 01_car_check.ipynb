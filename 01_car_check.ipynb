{
  "nbformat": 4,
  "nbformat_minor": 0,
  "metadata": {
    "accelerator": "TPU",
    "colab": {
      "name": "01-car_check.ipynb",
      "provenance": [],
      "collapsed_sections": [],
      "include_colab_link": true
    },
    "kernelspec": {
      "display_name": "Python [conda env:envdlcv] *",
      "language": "python",
      "name": "conda-env-envdlcv-py"
    },
    "language_info": {
      "codemirror_mode": {
        "name": "ipython",
        "version": 3
      },
      "file_extension": ".py",
      "mimetype": "text/x-python",
      "name": "python",
      "nbconvert_exporter": "python",
      "pygments_lexer": "ipython3",
      "version": "3.7.0"
    }
  },
  "cells": [
    {
      "cell_type": "markdown",
      "metadata": {
        "id": "view-in-github",
        "colab_type": "text"
      },
      "source": [
        "<a href=\"https://colab.research.google.com/github/duttagoutam/CarDamageDetection/blob/main/01_car_check.ipynb\" target=\"_parent\"><img src=\"https://colab.research.google.com/assets/colab-badge.svg\" alt=\"Open In Colab\"/></a>"
      ]
    },
    {
      "cell_type": "markdown",
      "metadata": {
        "id": "JAPktc8KN676"
      },
      "source": [
        "# Pipe1 : \n",
        "## To check if user input image is a car or not. Tested against multiple cnn frameworks to find one with maximum accuracy.\n",
        "\n",
        "### Data0 - dataset of all images of cars(damaged and undamaged ones)"
      ]
    },
    {
      "cell_type": "code",
      "metadata": {
        "colab": {
          "base_uri": "https://localhost:8080/"
        },
        "id": "pKXhN0Q4OI4g",
        "outputId": "c6cdab84-fec3-4895-c78a-41d06f07f7a2"
      },
      "source": [
        "from google.colab import drive\n",
        "drive.mount('/content/drive/')"
      ],
      "execution_count": 91,
      "outputs": [
        {
          "output_type": "stream",
          "text": [
            "Drive already mounted at /content/drive/; to attempt to forcibly remount, call drive.mount(\"/content/drive/\", force_remount=True).\n"
          ],
          "name": "stdout"
        }
      ]
    },
    {
      "cell_type": "code",
      "metadata": {
        "colab": {
          "base_uri": "https://localhost:8080/"
        },
        "id": "MA--mDz7PPPt",
        "outputId": "5dc37dc4-3853-4540-f93f-d18a7a23a4c8"
      },
      "source": [
        "folderName='/content/drive/My Drive/App/CarDamage/data/training/00-damage/'\n",
        "imageName=folderName+'0001.JPEG'\n",
        "print('imageName', imageName)"
      ],
      "execution_count": 87,
      "outputs": [
        {
          "output_type": "stream",
          "text": [
            "imageName /content/drive/My Drive/App/CarDamage/data/training/00-damage/0001.JPEG\n"
          ],
          "name": "stdout"
        }
      ]
    },
    {
      "cell_type": "code",
      "metadata": {
        "colab": {
          "base_uri": "https://localhost:8080/"
        },
        "id": "MEqVc1HwYA_g",
        "outputId": "0db55fea-5463-4852-e575-5795a40de043"
      },
      "source": [
        "import glob\n",
        "images = folderName\n",
        "print('images: %s' % images)\n",
        "# Create a list of all image names in the directory\n",
        "img = glob.glob(images + '*.JPEG')\n",
        "print('img: %d' % len(img))"
      ],
      "execution_count": 101,
      "outputs": [
        {
          "output_type": "stream",
          "text": [
            "images: /content/drive/My Drive/App/CarDamage/data/training/00-damage/\n",
            "img: 866\n"
          ],
          "name": "stdout"
        }
      ]
    },
    {
      "cell_type": "code",
      "metadata": {
        "id": "k9oQ7CpCN677"
      },
      "source": [
        "import os\n",
        "import h5py\n",
        "import urllib.request\n",
        "import json\n",
        "import numpy as np\n",
        "import pandas as pd\n",
        "import matplotlib.pyplot as plt\n",
        "import seaborn as sns\n",
        "import pickle as pk\n",
        "from IPython.display import Image, display, clear_output\n",
        "from collections import Counter, defaultdict\n",
        "from sklearn.metrics import classification_report, confusion_matrix"
      ],
      "execution_count": 62,
      "outputs": []
    },
    {
      "cell_type": "code",
      "metadata": {
        "id": "eE1z6YUeN678"
      },
      "source": [
        "from keras import optimizers\n",
        "from keras.applications.vgg16 import VGG16\n",
        "from keras.applications.vgg19 import VGG19\n",
        "from keras.applications.resnet50 import ResNet50\n",
        "from keras.applications.inception_v3 import InceptionV3\n",
        "from keras.applications.xception import Xception\n",
        "from keras.applications.imagenet_utils import preprocess_input, decode_predictions\n",
        "from keras.utils.data_utils import get_file\n",
        "from keras.utils.np_utils import to_categorical\n",
        "from keras.preprocessing.image import ImageDataGenerator, array_to_img, img_to_array, load_img\n",
        "from keras.models import Sequential, load_model\n",
        "from keras.layers import Convolution2D, MaxPooling2D, ZeroPadding2D, Activation, Dropout, Flatten, Dense\n",
        "from keras.callbacks import ModelCheckpoint, History"
      ],
      "execution_count": 63,
      "outputs": []
    },
    {
      "cell_type": "code",
      "metadata": {
        "id": "cnYQMBbHN67_"
      },
      "source": [
        "CLASS_INDEX = None\n",
        "CLASS_INDEX_PATH = 'https://s3.amazonaws.com/deep-learning-models/image-models/imagenet_class_index.json'"
      ],
      "execution_count": 64,
      "outputs": []
    },
    {
      "cell_type": "code",
      "metadata": {
        "id": "L_ZD38yKN67_"
      },
      "source": [
        "vgg16 = VGG16(weights='imagenet')\n",
        "vgg19 = VGG19(weights='imagenet')\n",
        "resnet = ResNet50(weights='imagenet')\n",
        "inception = InceptionV3(weights='imagenet')\n",
        "xception = Xception(weights='imagenet')"
      ],
      "execution_count": 65,
      "outputs": []
    },
    {
      "cell_type": "code",
      "metadata": {
        "id": "Kxax3XwON67_"
      },
      "source": [
        "def prepare_image_224(img_path):\n",
        "    img = load_img(img_path, target_size=(224,224))\n",
        "    x = img_to_array(img)\n",
        "    x = np.expand_dims(x, axis=0)\n",
        "    x = preprocess_input(x)\n",
        "    return x"
      ],
      "execution_count": 66,
      "outputs": []
    },
    {
      "cell_type": "code",
      "metadata": {
        "id": "Vx760UqFN67_"
      },
      "source": [
        "def prepare_image_299(img_path):\n",
        "    img = load_img(img_path, target_size=(299,299))\n",
        "    x = img_to_array(img)\n",
        "    x = np.expand_dims(x, axis=0)\n",
        "    x = preprocess_input(x)\n",
        "    return x"
      ],
      "execution_count": 67,
      "outputs": []
    },
    {
      "cell_type": "code",
      "metadata": {
        "id": "6gfLFeZFN67_"
      },
      "source": [
        "def get_predictions(preds, top=5):\n",
        "    global CLASS_INDEX\n",
        "    if len(preds.shape) != 2 or preds.shape[1] != 1000:\n",
        "        raise ValueError('`decode_predictions` expects a batch of predictions (i.e. a 2D array of shape (samples, 1000)). Found array with shape: ' + str(preds.shape))\n",
        "    if CLASS_INDEX is None:\n",
        "        fpath = get_file('imagenet_class_index.json',CLASS_INDEX_PATH,cache_subdir='models')\n",
        "        CLASS_INDEX = json.load(open(fpath))\n",
        "    results = []\n",
        "    for pred in preds:\n",
        "        top_indices = pred.argsort()[-top:][::-1]\n",
        "        result = [tuple(CLASS_INDEX[str(i)]) + (pred[i],) for i in top_indices]\n",
        "        result.sort(key=lambda x: x[2], reverse=True)\n",
        "        results.append(result)\n",
        "    return results"
      ],
      "execution_count": 68,
      "outputs": []
    },
    {
      "cell_type": "code",
      "metadata": {
        "colab": {
          "base_uri": "https://localhost:8080/",
          "height": 202
        },
        "id": "0p6WMTpAN67_",
        "outputId": "3e8d42c0-da09-41d8-c5b6-f11489ed7287"
      },
      "source": [
        "print('imageName', imageName)\n",
        "Image(imageName)\n",
        "\n",
        "#os.chdir('/content/drive/My Drive/App/CarDamage/data/training/00-damage/')\n",
        "display(Image(filename=imageName))"
      ],
      "execution_count": 69,
      "outputs": [
        {
          "output_type": "stream",
          "text": [
            "imageName /content/drive/My Drive/App/CarDamage/data/training/00-damage/0001.JPEG\n"
          ],
          "name": "stdout"
        },
        {
          "output_type": "display_data",
          "data": {
            "image/jpeg": "[encoded data removed]",
            "text/plain": [
              "<IPython.core.display.Image object>"
            ]
          },
          "metadata": {
            "tags": []
          }
        }
      ]
    },
    {
      "cell_type": "markdown",
      "metadata": {
        "id": "NdoU03B3N68A"
      },
      "source": [
        "### Testing with different models "
      ]
    },
    {
      "cell_type": "code",
      "metadata": {
        "colab": {
          "base_uri": "https://localhost:8080/"
        },
        "id": "4e1npGbCN68A",
        "outputId": "acd6f63a-fe57-41ce-a508-32edf6ba3522"
      },
      "source": [
        "#y = prepare_image_224('testimage.jpg')\n",
        "y = prepare_image_224(imageName)\n",
        "preds = vgg16.predict(y)\n",
        "print(get_predictions(preds, top=5))"
      ],
      "execution_count": 70,
      "outputs": [
        {
          "output_type": "stream",
          "text": [
            "[[('n04037443', 'racer', 0.094498634), ('n02974003', 'car_wheel', 0.08916167), ('n03791053', 'motor_scooter', 0.05967974), ('n04252077', 'snowmobile', 0.046653084), ('n03785016', 'moped', 0.04179131)]]\n"
          ],
          "name": "stdout"
        }
      ]
    },
    {
      "cell_type": "code",
      "metadata": {
        "colab": {
          "base_uri": "https://localhost:8080/"
        },
        "id": "nGfUScO7N68A",
        "outputId": "9d2fa7c8-d682-4897-e63b-ffeaaeb611cb"
      },
      "source": [
        "#z = prepare_image_224('testimage.jpg')\n",
        "z = prepare_image_224(imageName)\n",
        "preds = vgg19.predict(z)\n",
        "print(get_predictions(preds, top=5))"
      ],
      "execution_count": 71,
      "outputs": [
        {
          "output_type": "stream",
          "text": [
            "[[('n03769881', 'minibus', 0.2995386), ('n02974003', 'car_wheel', 0.088645175), ('n03770679', 'minivan', 0.0796997), ('n03796401', 'moving_van', 0.06282162), ('n04037443', 'racer', 0.05812356)]]\n"
          ],
          "name": "stdout"
        }
      ]
    },
    {
      "cell_type": "code",
      "metadata": {
        "colab": {
          "base_uri": "https://localhost:8080/"
        },
        "id": "93xBNft4N68B",
        "outputId": "841f4b24-8d32-410a-ab1d-0d245891eb4a"
      },
      "source": [
        "a = prepare_image_224(imageName)\n",
        "preds = resnet.predict(a)\n",
        "print(get_predictions(preds))"
      ],
      "execution_count": 72,
      "outputs": [
        {
          "output_type": "stream",
          "text": [
            "[[('n03769881', 'minibus', 0.26764795), ('n03770679', 'minivan', 0.18039861), ('n03796401', 'moving_van', 0.1053738), ('n02917067', 'bullet_train', 0.030790508), ('n04037443', 'racer', 0.026432738)]]\n"
          ],
          "name": "stdout"
        }
      ]
    },
    {
      "cell_type": "code",
      "metadata": {
        "colab": {
          "base_uri": "https://localhost:8080/"
        },
        "id": "3TNvwDg1N68B",
        "outputId": "9164a08c-f806-44de-9244-5d7a112305d3"
      },
      "source": [
        "b = prepare_image_299(imageName)\n",
        "preds = inception.predict(b)\n",
        "print(get_predictions(preds, top=5))"
      ],
      "execution_count": 73,
      "outputs": [
        {
          "output_type": "stream",
          "text": [
            "WARNING:tensorflow:5 out of the last 925 calls to <function Model.make_predict_function.<locals>.predict_function at 0x7f686cb19400> triggered tf.function retracing. Tracing is expensive and the excessive number of tracings could be due to (1) creating @tf.function repeatedly in a loop, (2) passing tensors with different shapes, (3) passing Python objects instead of tensors. For (1), please define your @tf.function outside of the loop. For (2), @tf.function has experimental_relax_shapes=True option that relaxes argument shapes that can avoid unnecessary retracing. For (3), please refer to https://www.tensorflow.org/tutorials/customization/performance#python_or_tensor_args and https://www.tensorflow.org/api_docs/python/tf/function for  more details.\n",
            "[[('n02089973', 'English_foxhound', 0.9881563), ('n04409515', 'tennis_ball', 0.007634911), ('n02095314', 'wire-haired_fox_terrier', 0.0019834137), ('n04366367', 'suspension_bridge', 0.0011113939), ('n04328186', 'stopwatch', 0.00056395365)]]\n"
          ],
          "name": "stdout"
        }
      ]
    },
    {
      "cell_type": "code",
      "metadata": {
        "colab": {
          "base_uri": "https://localhost:8080/"
        },
        "id": "tSafSMIcN68C",
        "outputId": "f4347956-786c-449b-fb3c-3343dc5bb6ef"
      },
      "source": [
        "c = prepare_image_299(imageName)\n",
        "preds = xception.predict(c)\n",
        "print(get_predictions(preds, top=5))"
      ],
      "execution_count": 74,
      "outputs": [
        {
          "output_type": "stream",
          "text": [
            "WARNING:tensorflow:6 out of the last 926 calls to <function Model.make_predict_function.<locals>.predict_function at 0x7f686ee67ae8> triggered tf.function retracing. Tracing is expensive and the excessive number of tracings could be due to (1) creating @tf.function repeatedly in a loop, (2) passing tensors with different shapes, (3) passing Python objects instead of tensors. For (1), please define your @tf.function outside of the loop. For (2), @tf.function has experimental_relax_shapes=True option that relaxes argument shapes that can avoid unnecessary retracing. For (3), please refer to https://www.tensorflow.org/tutorials/customization/performance#python_or_tensor_args and https://www.tensorflow.org/api_docs/python/tf/function for  more details.\n",
            "[[('n03942813', 'ping-pong_ball', 0.82221425), ('n03775546', 'mixing_bowl', 0.1463009), ('n03445777', 'golf_ball', 0.008869228), ('n04356056', 'sunglasses', 0.007155719), ('n03814906', 'necklace', 0.0052738413)]]\n"
          ],
          "name": "stdout"
        }
      ]
    },
    {
      "cell_type": "markdown",
      "metadata": {
        "id": "yaMvbqBdN68C"
      },
      "source": [
        "##### Result: VGG16 shows best accuracy."
      ]
    },
    {
      "cell_type": "markdown",
      "metadata": {
        "id": "Mk9thwwqN68C"
      },
      "source": [
        "## Using VGG16 model for Pipe1"
      ]
    },
    {
      "cell_type": "code",
      "metadata": {
        "id": "sJMyChFVN68C"
      },
      "source": [
        "def get_car_categories():\n",
        "    d = defaultdict(float)\n",
        "    #img_list = os.listdir('data1')\n",
        "    img_list = os.listdir(folderName)\n",
        "    for i, img_path in enumerate(img_list):\n",
        "        #print('ImagePath:', img_path)\n",
        "        img = prepare_image_224(folderName+img_path)\n",
        "        out = vgg16.predict(img)\n",
        "        preds = get_predictions(out,top=5)\n",
        "        for pred in preds[0]:\n",
        "            d[pred[0:2]]+=pred[2]\n",
        "        if(i%50==0):\n",
        "            print(i,'/',len(img_list),'complete')\n",
        "    return Counter(d)"
      ],
      "execution_count": 75,
      "outputs": []
    },
    {
      "cell_type": "code",
      "metadata": {
        "colab": {
          "base_uri": "https://localhost:8080/"
        },
        "id": "c6BupdNrN68C",
        "outputId": "0b6a1f53-55bb-4a41-c69e-ae293e50083c"
      },
      "source": [
        "categ_count = get_car_categories()"
      ],
      "execution_count": 76,
      "outputs": [
        {
          "output_type": "stream",
          "text": [
            "0 / 920 complete\n",
            "50 / 920 complete\n",
            "100 / 920 complete\n",
            "150 / 920 complete\n",
            "200 / 920 complete\n",
            "250 / 920 complete\n",
            "300 / 920 complete\n",
            "350 / 920 complete\n",
            "400 / 920 complete\n",
            "450 / 920 complete\n",
            "500 / 920 complete\n",
            "550 / 920 complete\n",
            "600 / 920 complete\n",
            "650 / 920 complete\n",
            "700 / 920 complete\n",
            "750 / 920 complete\n",
            "800 / 920 complete\n",
            "850 / 920 complete\n",
            "900 / 920 complete\n"
          ],
          "name": "stdout"
        }
      ]
    },
    {
      "cell_type": "code",
      "metadata": {
        "id": "TtkObudJN68C"
      },
      "source": [
        "with open('vgg16_cat_list.pk', 'wb') as f:\n",
        "    pk.dump(categ_count, f, -1)"
      ],
      "execution_count": 77,
      "outputs": []
    },
    {
      "cell_type": "code",
      "metadata": {
        "id": "leXjLz2nN68C"
      },
      "source": [
        "with open('vgg16_cat_list.pk', 'rb') as f:\n",
        "    categ_count = pk.load(f)"
      ],
      "execution_count": 78,
      "outputs": []
    },
    {
      "cell_type": "code",
      "metadata": {
        "id": "Zh0quXnQN68C"
      },
      "source": [
        "categ_list = [k for k, v in categ_count.most_common()[:50]]"
      ],
      "execution_count": 80,
      "outputs": []
    },
    {
      "cell_type": "markdown",
      "metadata": {
        "id": "WpSx8Gj4N68C"
      },
      "source": [
        "## Imagenet Car Categories"
      ]
    },
    {
      "cell_type": "code",
      "metadata": {
        "id": "Ll-HjAywN68C"
      },
      "source": [
        "def get_car_categories(categ_list):\n",
        "    img_list = os.listdir(folderName)\n",
        "    n = 0\n",
        "    bad_list = []\n",
        "    for i, img_path in enumerate(img_list):\n",
        "        img = prepare_image_224(folderName+img_path)\n",
        "        out = vgg16.predict(img)\n",
        "        preds = get_predictions(out, top=5)\n",
        "        for pred in preds[0]:\n",
        "            if pred[0:2] in categ_list:\n",
        "                n+=1\n",
        "                break\n",
        "            else:\n",
        "                pass\n",
        "            bad_list.append(img_path)\n",
        "        if i%100 == 0:\n",
        "            print(i,'/',len(img_list), 'complete')\n",
        "    bad_list = [k for k, v in Counter(bad_list).items() if v == 5]\n",
        "    return n, bad_list"
      ],
      "execution_count": 82,
      "outputs": []
    },
    {
      "cell_type": "code",
      "metadata": {
        "id": "t3Spkk5IN68C",
        "colab": {
          "base_uri": "https://localhost:8080/"
        },
        "outputId": "1097dfc7-a323-4e04-d8e2-dd7b908cbdcc"
      },
      "source": [
        "num, bad_list = get_car_categories(categ_list)"
      ],
      "execution_count": 83,
      "outputs": [
        {
          "output_type": "stream",
          "text": [
            "0 / 920 complete\n",
            "100 / 920 complete\n",
            "200 / 920 complete\n",
            "300 / 920 complete\n",
            "400 / 920 complete\n",
            "500 / 920 complete\n",
            "600 / 920 complete\n",
            "700 / 920 complete\n",
            "800 / 920 complete\n",
            "900 / 920 complete\n"
          ],
          "name": "stdout"
        }
      ]
    },
    {
      "cell_type": "markdown",
      "metadata": {
        "id": "AaM6C4E1N68D"
      },
      "source": [
        "# Pipe 1"
      ]
    },
    {
      "cell_type": "code",
      "metadata": {
        "id": "iVL4MrSNN68D"
      },
      "source": [
        "def pipe1(img_path, categ_list):\n",
        "    #urllib.request.urlretrieve(img_path, 'image.jpg')\n",
        "    img = prepare_image_224(img_path)\n",
        "    out = vgg16.predict(img)\n",
        "    preds = get_predictions(out, top=5)\n",
        "    print(\"Ensuring entered picture is a car...\")\n",
        "    for pred in preds[0]:\n",
        "        if pred[0:2] in categ_list:\n",
        "            print(pred[0:2])\n",
        "            return \"Successful. Proceeding to damage assessment...\"\n",
        "    return \"The entered image is a not a car. Please try again. Consider a different angle or lighting.\""
      ],
      "execution_count": 95,
      "outputs": []
    },
    {
      "cell_type": "code",
      "metadata": {
        "id": "BGgS-pPEN68D",
        "scrolled": true,
        "colab": {
          "base_uri": "https://localhost:8080/",
          "height": 69
        },
        "outputId": "baa0124d-74ba-4b9a-92bf-c6ef94be6f13"
      },
      "source": [
        "imagePath='/content/drive/My Drive/App/CarDamage/data/dog.JPEG'\n",
        "print('imagePath:',imagePath)\n",
        "pipe1(imagePath, categ_list)\n",
        "#pipe1('https://www.autoauctionmall.com/learning-center/contents/uploads/2015/10/damaged-car.jpg', categ_list)"
      ],
      "execution_count": 96,
      "outputs": [
        {
          "output_type": "stream",
          "text": [
            "imagePath: /content/drive/My Drive/App/CarDamage/data/dog.JPEG\n",
            "Ensuring entered picture is a car...\n"
          ],
          "name": "stdout"
        },
        {
          "output_type": "execute_result",
          "data": {
            "application/vnd.google.colaboratory.intrinsic+json": {
              "type": "string"
            },
            "text/plain": [
              "'The entered image is a not a car. Please try again. Consider a different angle or lighting.'"
            ]
          },
          "metadata": {
            "tags": []
          },
          "execution_count": 96
        }
      ]
    },
    {
      "cell_type": "code",
      "metadata": {
        "id": "OC1NHQ2-N68E",
        "colab": {
          "base_uri": "https://localhost:8080/",
          "height": 69
        },
        "outputId": "2c60dbe1-6a99-454d-8990-405389f18f47"
      },
      "source": [
        "imagePath='/content/drive/My Drive/App/CarDamage/data/Shinjinee_photo.jpeg'\n",
        "print('imagePath:',imagePath)\n",
        "pipe1(imagePath, categ_list)\n",
        "#pipe1('https://cdn.nba.net/nba-drupal-prod/2017-05/lonzo-ball-sideline-iso.jpg',categ_list)"
      ],
      "execution_count": 97,
      "outputs": [
        {
          "output_type": "stream",
          "text": [
            "imagePath: /content/drive/My Drive/App/CarDamage/data/Shinjinee_photo.jpeg\n",
            "Ensuring entered picture is a car...\n"
          ],
          "name": "stdout"
        },
        {
          "output_type": "execute_result",
          "data": {
            "application/vnd.google.colaboratory.intrinsic+json": {
              "type": "string"
            },
            "text/plain": [
              "'The entered image is a not a car. Please try again. Consider a different angle or lighting.'"
            ]
          },
          "metadata": {
            "tags": []
          },
          "execution_count": 97
        }
      ]
    },
    {
      "cell_type": "code",
      "metadata": {
        "id": "aKler5XZN68E",
        "colab": {
          "base_uri": "https://localhost:8080/",
          "height": 86
        },
        "outputId": "9c7fc9b6-7ff3-4507-b476-d68e5372c7ec"
      },
      "source": [
        "imagePath='/content/drive/My Drive/App/CarDamage/data/training/01-whole/0001.jpg'\n",
        "print('imagePath:',imagePath)\n",
        "pipe1(imagePath, categ_list)\n",
        "#pipe1('https://tse4.mm.bing.net/th?id=OIP.FaZela57De0uzfVxVY3JJQHaEo&pid=Api&P=0&w=289&h=181', categ_list)"
      ],
      "execution_count": 100,
      "outputs": [
        {
          "output_type": "stream",
          "text": [
            "imagePath: /content/drive/My Drive/App/CarDamage/data/training/01-whole/0001.jpg\n",
            "Ensuring entered picture is a car...\n",
            "('n04252225', 'snowplow')\n"
          ],
          "name": "stdout"
        },
        {
          "output_type": "execute_result",
          "data": {
            "application/vnd.google.colaboratory.intrinsic+json": {
              "type": "string"
            },
            "text/plain": [
              "'Successful. Proceeding to damage assessment...'"
            ]
          },
          "metadata": {
            "tags": []
          },
          "execution_count": 100
        }
      ]
    }
  ]
}